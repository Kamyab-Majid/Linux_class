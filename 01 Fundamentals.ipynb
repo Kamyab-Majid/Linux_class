{
 "cells": [
  {
   "cell_type": "markdown",
   "metadata": {},
   "source": [
    "# Fundamentals\n",
    "\n",
    "Just like Windows, iOS, and Mac OS, Linux is an operating system. In fact, one of the most popular platforms on the planet, Android, is powered by the Linux operating system. An operating system is software that manages all of the hardware resources associated with your desktop or laptop. To put it simply, the operating system manages the communication between your software and your hardware. Without the operating system (OS), the software wouldn't function."
   ]
  },
  {
   "cell_type": "markdown",
   "metadata": {},
   "source": [
    "The Linux operating system comprises several different pieces:\n",
    "\n",
    "1. **Bootloader** –  The software that manages the boot process of your computer. For most users, this will simply be a splash screen that pops up and eventually goes away to boot into the operating system.\n",
    "2. **Kernel** – This is the one piece of the whole that is actually called ?Linux?. The kernel is the core of the system and manages the CPU, memory, and peripheral devices. The kernel is the lowest level of the OS.\n",
    "3. **Init system** – This is a sub-system that bootstraps the user space and is charged with controlling daemons. One of the most widely used init systems is systemd? which also happens to be one of the most controversial. It is the init system that manages the boot process, once the initial booting is handed over from the bootloader (i.e., GRUB or GRand Unified Bootloader).\n",
    "4. **Daemons** – These are background services (printing, sound, scheduling, etc.) that either start up during boot or after you log into the desktop.\n",
    "5. **Graphical server** – This is the sub-system that displays the graphics on your monitor. It is commonly referred to as the X server or just X.\n",
    "6. **Desktop environment** – This is the piece that the users actually interact with. There are many desktop environments to choose from (GNOME, Cinnamon, Mate, Pantheon, Enlightenment, KDE, Xfce, etc.). Each desktop environment includes built-in applications (such as file managers, configuration tools, web browsers, and games).\n",
    "7. **Applications** – Desktop environments do not offer the full array of apps. Just like Windows and macOS, Linux offers thousands upon thousands of high-quality software titles that can be easily found and installed. Most modern Linux distributions (more on this below) include App Store-like tools that centralize and simplify application installation. For example, Ubuntu Linux has the Ubuntu Software Center (a rebrand of GNOME Software? Figure 1) which allows you to quickly search among the thousands of apps and install them from one centralized location."
   ]
  },
  {
   "cell_type": "markdown",
   "metadata": {},
   "source": [
    "# Why Switch?\n",
    "One of the biggest reasons for someone to switch to Linux is to use what is arguably the most powerful feature of the Linux operating system and that is the terminal."
   ]
  },
  {
   "cell_type": "markdown",
   "metadata": {},
   "source": [
    "Now if you've ever seen a film where a hacker or a computer genius has sat behind their computer typing commands into what looks like a big black box on their computer screen that black box is called the **terminal**."
   ]
  },
  {
   "cell_type": "markdown",
   "metadata": {},
   "source": [
    "Now Linux is unique in that the development of Linux is inseparable from the terminal and this means that knowing how to use the terminal gives you pretty much absolute control over how your computer works by using the terminal. You can do pretty much anything that you want with your Linux computer."
   ]
  },
  {
   "cell_type": "markdown",
   "metadata": {},
   "source": [
    "Now you can't get this level of control over your computer in any other operating system and this makes the terminal an incredible skill to learn."
   ]
  },
  {
   "cell_type": "markdown",
   "metadata": {},
   "source": [
    "**Note:** Don't worry about memorizing all the commands."
   ]
  },
  {
   "cell_type": "markdown",
   "metadata": {},
   "source": [
    "## What is a “distribution?”\n",
    "Linux has a number of different versions to suit any type of user. From new users to hard-core users, you’ll find a “flavor” of Linux to match your needs. These versions are called distributions (or, in the short form, “distros”). Nearly every distribution of Linux can be downloaded for free, burned onto disk (or USB thumb drive), and installed (on as many machines as you like)."
   ]
  },
  {
   "cell_type": "markdown",
   "metadata": {},
   "source": [
    "Popular Linux distributions include:\n",
    "- LINUX MINT\n",
    "- MANJARO\n",
    "- DEBIAN\n",
    "- UBUNTU\n",
    "- ANTERGOS\n",
    "- SOLUS\n",
    "- FEDORA\n",
    "- ELEMENTARY OS\n",
    "- OPENSUSE"
   ]
  },
  {
   "cell_type": "markdown",
   "metadata": {},
   "source": [
    "Each distribution has a different take on the desktop. Some opt for very modern user interfaces (such as GNOME and Elementary OS’s Pantheon), whereas others stick with a more traditional desktop environment (openSUSE uses KDE)."
   ]
  },
  {
   "cell_type": "markdown",
   "metadata": {},
   "source": [
    "## Which distribution is right for you?\n",
    "Which distribution you use will depend on the answer to three simple questions:\n",
    "- How skilled of a computer user are you?\n",
    "- Do you prefer a modern or a standard desktop interface?\n",
    "- Server or desktop?"
   ]
  },
  {
   "cell_type": "markdown",
   "metadata": {},
   "source": [
    "If your computer skills are fairly basic, you’ll want to stick with a newbie-friendly distribution such as Linux Mint, Ubuntu (Figure 3), Elementary OS or Deepin. If your skill set extends into the above-average range, you could go with a distribution like Debian or Fedora. If, however, you’ve pretty much mastered the craft of computer and system administration, use a distribution like Gentoo. If you really want a challenge, you can build your very own Linux distribution, with the help of Linux From Scratch.\n",
    "\n",
    "If you’re looking for a server-only distribution, you will also want to decide if you need a desktop interface, or if you want to do this via command-line only. The Ubuntu Server does not install a GUI interface. This means two things your server won’t be bogged down loading graphics and you’ll need to have a solid understanding of the Linux command line. However, you can install a GUI package on top of the Ubuntu Server with a single command like sudo apt-get install ubuntu-desktop. System administrators will also want to view a distribution with regards to features. Do you want a server-specific distribution that will offer you, out of the box, everything you need for your server? If so, CentOS might be the best choice. Or, do you want to take a desktop distribution and add the pieces as you need them? If so, Debian or Ubuntu Linux might serve you well."
   ]
  },
  {
   "cell_type": "markdown",
   "metadata": {},
   "source": [
    "## Installing software on Linux\n",
    "Just as the operating system itself is easy to install, so too are applications. Most modern Linux distributions include what most would consider an app store. This is a centralized location where software can be searched and installed. Ubuntu Linux (and many other distributions) rely on GNOME Software, Elementary OS has the AppCenter, Deepin has the Deepin Software Center, openSUSE has their AppStore, and some distributions rely on Synaptic."
   ]
  },
  {
   "cell_type": "markdown",
   "metadata": {},
   "source": [
    "Regardless of the name, each of these tools do the same thing? a central place to search for and install Linux software. Of course, these pieces of software depend upon the presence of a GUI. For GUI-less servers, you will have to depend upon the command-line interface for installation."
   ]
  },
  {
   "cell_type": "markdown",
   "metadata": {},
   "source": [
    "Let’s look at two different tools to illustrate how easy even the command line installation can be. Our examples are for Debian-based distributions and Fedora-based distributions. The Debian-based distros will use the apt-get tool for installing software and Fedora-based distros will require the use of the yum tool. Both work very similarly. We’ll illustrate using the apt-get command. Let’s say you want to install the wget tool (which is a handy tool used to download files from the command line). To install this using apt-get, the command would like like this:\n",
    "`sudo apt-get install wget`"
   ]
  },
  {
   "cell_type": "markdown",
   "metadata": {},
   "source": [
    "The sudo command is added because you need super user privileges in order to install software. Similarly, to install the same software on a Fedora-based distribution, you would first su to the super user (literally issue the command su and enter the root password), and issue this command:\n",
    "`yum install wget`"
   ]
  },
  {
   "cell_type": "markdown",
   "metadata": {},
   "source": [
    "That’s all there is to installing software on a Linux machine.\n",
    "\n",
    "[Read More](https://www.linux.com/what-is-linux/)"
   ]
  },
  {
   "cell_type": "markdown",
   "metadata": {},
   "source": [
    "## Windows Subsystem for Linux (WSL)\n",
    "The Windows Subsystem for Linux (WSL) is a new Windows 10 feature that enables you to run native Linux command-line tools directly on Windows, alongside your traditional Windows desktop and modern store apps.\n",
    "\n",
    "The Windows Subsystem for Linux lets developers run a GNU/Linux environment -- including most command-line tools, utilities, and applications -- directly on Windows, unmodified, without the overhead of a traditional virtual machine or dualboot setup."
   ]
  },
  {
   "cell_type": "markdown",
   "metadata": {},
   "source": [
    "**Note**: You can also access your local machine’s filesystem from within the Linux Bash shell – you’ll find your local drives mounted under the `/mnt` folder. For example, your C: drive is mounted under `/mnt/c`."
   ]
  },
  {
   "cell_type": "markdown",
   "metadata": {},
   "source": [
    "If you are using WSL and want to customize it:\n",
    "1. Right click in the top title bar of the terminal window (this is the likely gray part of the window with an orange circle on the left).\n",
    "2. From the menu that appears upon right click, select properties.\n",
    "3. Select Font, and choose the size you’d like (I prefer size 20 for my WSL windows)\n",
    "4. Then select OK (once OK is clicked the windows and the window text should resize to the selected font size)."
   ]
  },
  {
   "cell_type": "markdown",
   "metadata": {},
   "source": [
    "**Recommended changes**:\n",
    "- In Options tab:\n",
    "  - Check `Use Ctrl+Shift+C/V as Copy/Pase`\n",
    "- In Font tab:  \n",
    "  - Font size: 36\n",
    "- In Layout tab:\n",
    "  - Width: 80\n",
    "  - Height: 18\n",
    "- In Terminal tab:\n",
    "  - Check `Disable Scroll-Forward`"
   ]
  },
  {
   "cell_type": "markdown",
   "metadata": {},
   "source": [
    "## Directories\n",
    "### Common Directories\n",
    "- `/`: root\n",
    "  - `/bin`: binary or other executalbe programs\n",
    "  - `/etc`: system configuration files\n",
    "  - `/home`: home directories\n",
    "    - `user_name`\n",
    "      - Documents\n",
    "      - Downloads\n",
    "      - Music\n",
    "      - ...\n",
    "  - `/opt`: optional or third party softwares\n",
    "  - `/tmp`: temporary space, typically cleared on reboot\n",
    "  - `/usr`: user related programs\n",
    "  - `/var`: variable data, most notably log files\n",
    "    - `log`\n",
    "  - `/boot`: files needed to boot the operating system\n",
    "  - `/cdrom`: mount point for CD-ROMs\n",
    "  - `/dev`: device files, typically controlled by the operating system and the system administrators.\n",
    "  - `/lib`: system libraries\n",
    "  - `/lib64`: system libraries, 64 bit\n",
    "  - `/lost+found`: Used by the file system to store recovered files after a file system check has been performed.\n",
    "  - `/media`: Used to mount removable media like CD-ROMs\n",
    "  - `/mnt`: used to mount external file systems."
   ]
  },
  {
   "cell_type": "markdown",
   "metadata": {},
   "source": [
    "### Application Directory Structures\n",
    "- `/usr/local/application/bin`\n",
    "- `/usr/local/application/etc`\n",
    "- `/usr/local/application/lib`\n",
    "- `/usr/local/application/log`\n",
    "\n",
    "- `/opt/application/bin`\n",
    "- `/opt/application/etc`\n",
    "- `/opt/application/lib`\n",
    "- `/opt/application/log`\n",
    "\n",
    "Applications that are not part of the base OS can be installed in:\n",
    "- `/usr/local`\n",
    "- `/opt`"
   ]
  },
  {
   "cell_type": "markdown",
   "metadata": {},
   "source": [
    "## Linux Commands\n",
    "\n",
    "**Command --> The Shell --> Meaning**"
   ]
  },
  {
   "cell_type": "markdown",
   "metadata": {},
   "source": [
    "The terminal is nothing more than just a window into the shell. You can't really type commands anywhere unless you've opened a terminal. What you're doing is you're typing commands in the terminal and you press enter and then they are submitted to the shell."
   ]
  },
  {
   "cell_type": "markdown",
   "metadata": {},
   "source": [
    "And there are actually different types of shells so different types of shelves just like there were different types of human languages can actually interpret the same command in different ways, but fortunately there is one type of shell which has been which is the most common type which is called the bash shell. So if you've ever heard the term bash shell scripting or bash scripting or something like that it means writing programs and writing scripts that can be read by the bash shell and Linux."
   ]
  },
  {
   "cell_type": "markdown",
   "metadata": {},
   "source": [
    "Most Linux distribution use the bash shell and ubuntu definitely does by default. So that's something to bear in mind that there are different types of shells on Linux. They can interpret commands in different ways but the most common one is the bash shell."
   ]
  },
  {
   "cell_type": "markdown",
   "metadata": {},
   "source": [
    "Summary:\n",
    "- Commands are just text you type in the terminal.\n",
    "- Commands are interpreted by the shell.\n",
    "- Different shells can interpret the same text in different ways."
   ]
  },
  {
   "cell_type": "markdown",
   "metadata": {},
   "source": [
    "### Some Basic Linux Commands\n",
    "- Print \"Hello World\": `echo Hello World`\n",
    "- Calendar: `cal`, `cal 2021`, `cal -y`\n",
    "- Today date: `date`\n",
    "- Clear Screen: `ctrl + L`\n",
    "\n",
    "You can keep pressing up and cycling backwards through the commands that you've already run which is very very useful."
   ]
  },
  {
   "cell_type": "markdown",
   "metadata": {},
   "source": [
    "You can also look at your whole command history using what's called the history command, so if you type `history` and press ENTER we can see all of our previous commands with the line number associated with them."
   ]
  },
  {
   "cell_type": "markdown",
   "metadata": {},
   "source": [
    "To run a line number in history again, instead of having to cycle all the way back up to number 1, what I could do is look a tide the exclamation mark and then 1. For example:\n",
    "- `!1`: Running the first command in history.\n",
    "- `!275`: Runnign the 275th command in history."
   ]
  },
  {
   "cell_type": "markdown",
   "metadata": {},
   "source": [
    "To run the most recent command: `!!`\n",
    "To exit the terminal: `exit`"
   ]
  },
  {
   "cell_type": "markdown",
   "metadata": {},
   "source": [
    "Some more commands to look at:\n",
    "- `ls`\n",
    "  - `ls -l`: `-rw-rw-r-- 1 jason users 10400 Sep 27 08:52 sales.data`\n",
    "    - `-rw-rw-r--`: permissions\n",
    "    - 1: number of links\n",
    "    - `jason`: owner name\n",
    "    - `users`: group name\n",
    "    - 10400: number of bytes in the file\n",
    "    - Sep 27 08:52: last modification time\n",
    "    - sales.data: file name\n",
    "  - `ls -a`: listing all files including hidden files\n",
    "    - hiden files begin with a period (`.git` for example)\n",
    "  - `ls -F`: listing files by type\n",
    "    - `/`: Directory\n",
    "    - `@`: Link\n",
    "    - `*`: Executable\n",
    "  - `ls -t`: list files by time\n",
    "  - `ls -r`: reverse order\n",
    "  - `ls -l -a` or `ls -la` or `ls -al`: combine options\n",
    "- `tree`: similar to `ls`, but creates visual output\n",
    "  - `tree -d`: list directories only\n",
    "- `cd`\n",
    "- `pwd`\n",
    "- `cat`: concatenates and displays files\n",
    "- `echo`: displays arguments to the screen\n",
    "- `man`: displays the online manual\n",
    "  - `man -k SEARCH_TERM`: searching man pages\n",
    "- `exit`: exits the shell or your current session\n",
    "- `clear`: clears the screen\n",
    "- `reset`: resets the shell or your current session\n",
    "- `which`: locate a command\n",
    "- `groups`: displays a user's groups\n",
    "\n",
    "**Note:** Memorizing commands is not important. What commands actually are and how they are structured is important to understand so that you can start to see a pattern behind everything you can start to look at the commands as a type of language rather than just random text on the screen that you've got to memorize."
   ]
  }
 ],
 "metadata": {
  "kernelspec": {
   "display_name": "Python 3",
   "language": "python",
   "name": "python3"
  },
  "language_info": {
   "codemirror_mode": {
    "name": "ipython",
    "version": 3
   },
   "file_extension": ".py",
   "mimetype": "text/x-python",
   "name": "python",
   "nbconvert_exporter": "python",
   "pygments_lexer": "ipython3",
   "version": "3.7.6"
  }
 },
 "nbformat": 4,
 "nbformat_minor": 4
}
